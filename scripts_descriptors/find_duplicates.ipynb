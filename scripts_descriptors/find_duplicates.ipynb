{
 "cells": [
  {
   "cell_type": "code",
   "execution_count": null,
   "id": "092a6097",
   "metadata": {},
   "outputs": [],
   "source": [
    "%aiida"
   ]
  },
  {
   "cell_type": "code",
   "execution_count": 2,
   "id": "a47bd936",
   "metadata": {},
   "outputs": [],
   "source": [
    "from __future__ import absolute_import, print_function\n",
    "\n",
    "from aiida.orm import StructureData, load_node, CifData\n",
    "from aiida.orm.querybuilder import QueryBuilder"
   ]
  },
  {
   "cell_type": "code",
   "execution_count": 78,
   "id": "c3f29bfa",
   "metadata": {},
   "outputs": [],
   "source": [
    "qb = QueryBuilder()\n",
    "\n",
    "qb.append(CifData, filters={'label': {'==': 'name here'}})\n",
    "\n",
    "results = qb.all()"
   ]
  },
  {
   "cell_type": "code",
   "execution_count": null,
   "id": "301f0d89",
   "metadata": {},
   "outputs": [],
   "source": [
    "for result in results:\n",
    "    print(result)"
   ]
  },
  {
   "cell_type": "code",
   "execution_count": null,
   "id": "7a2dee57",
   "metadata": {},
   "outputs": [],
   "source": []
  }
 ],
 "metadata": {
  "kernelspec": {
   "display_name": "Python 3.7.13 ('aiida1.6')",
   "language": "python",
   "name": "python3"
  },
  "language_info": {
   "codemirror_mode": {
    "name": "ipython",
    "version": 3
   },
   "file_extension": ".py",
   "mimetype": "text/x-python",
   "name": "python",
   "nbconvert_exporter": "python",
   "pygments_lexer": "ipython3",
   "version": "3.7.13 (default, Oct 18 2022, 18:57:03) \n[GCC 11.2.0]"
  },
  "vscode": {
   "interpreter": {
    "hash": "1d0c5f8efdce12e9899ce7643a88b03bdd5a48e875879f5a179b810e2f6aae19"
   }
  }
 },
 "nbformat": 4,
 "nbformat_minor": 5
}
